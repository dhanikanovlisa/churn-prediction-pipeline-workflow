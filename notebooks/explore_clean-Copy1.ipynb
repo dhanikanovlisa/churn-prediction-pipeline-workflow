{
 "cells": [
  {
   "cell_type": "code",
   "execution_count": null,
   "id": "cf89bc8c-11ee-463f-aeef-161e4150a914",
   "metadata": {},
   "outputs": [],
   "source": [
    "from pyspark.sql import SparkSession\n",
    "from pyspark.sql.functions import udf, col\n",
    "from pyspark.ml.linalg import Vectors, VectorUDT\n",
    "import re\n",
    "\n",
    "def parse_vector(line):\n",
    "    if line.startswith('[') and line.endswith(']'):\n",
    "        return Vectors.dense([float(x) for x in line[1:-1].split(',')])\n",
    "    else:\n",
    "        pattern = r'\\((\\d+),\\[(.*?)\\],\\[(.*?)\\]\\)'\n",
    "        match = re.match(pattern, line)\n",
    "        if match:\n",
    "            size = int(match.group(1))\n",
    "            indices = [int(x) for x in match.group(2).split(',')] if match.group(2) != '' else []\n",
    "            values = [float(x) for x in match.group(3).split(',')] if match.group(3) != '' else []\n",
    "            return Vectors.sparse(size, indices, values)\n",
    "\n",
    "udf_parse_vector = udf(parse_vector, VectorUDT())\n",
    "\n",
    "spark = SparkSession.builder.appName('DataLoader').getOrCreate()\n",
    "file_path = '../data/processed/data.csv'\n",
    "df = spark.read.option('header', 'true').csv(file_path, inferSchema=True)\n",
    "df = df.withColumn('final_feature_vector', udf_parse_vector(col('final_feature_vector')))\n",
    "\n",
    "# Gunakan aksi untuk memicu eksekusi UDF dan mengubah data\n",
    "df.show(5, truncate=False)  # Menampilkan 5 baris pertama dengan representasi penuh\n",
    "\n",
    "spark.stop()\n"
   ]
  },
  {
   "cell_type": "code",
   "execution_count": null,
   "id": "61c87437-5a2a-4947-bdf9-a5af2714d0f8",
   "metadata": {},
   "outputs": [],
   "source": [
    "df.count()"
   ]
  },
  {
   "cell_type": "code",
   "execution_count": null,
   "id": "330ddfea-500b-4049-8e00-8e62fe1f1830",
   "metadata": {},
   "outputs": [],
   "source": [
    "df.select(\"final_feature_vector\").show(5, truncate=False)"
   ]
  },
  {
   "cell_type": "code",
   "execution_count": null,
   "id": "8c8e6900-e257-4d37-bc8f-936ee1f0a1b1",
   "metadata": {},
   "outputs": [],
   "source": [
    "print(parse_vector(\"[1.0, 2.0, 3.0]\"))  # Dense\n",
    "print(parse_vector(\"(3,[1,2],[2.0,3.0])\"))  # Sparse"
   ]
  },
  {
   "cell_type": "code",
   "execution_count": null,
   "id": "5ddd8e1b-efef-444c-b1d5-8b1324872eaa",
   "metadata": {},
   "outputs": [],
   "source": [
    "# Mengambil beberapa sampel vektor\n",
    "vectors = df.select(\"final_feature_vector\").take(5)\n",
    "for row in vectors:\n",
    "    print(row)"
   ]
  },
  {
   "cell_type": "code",
   "execution_count": null,
   "id": "fa6859d2-af9a-41eb-9489-604c961b0147",
   "metadata": {},
   "outputs": [],
   "source": []
  }
 ],
 "metadata": {
  "kernelspec": {
   "display_name": "Python 3 (ipykernel)",
   "language": "python",
   "name": "python3"
  },
  "language_info": {
   "codemirror_mode": {
    "name": "ipython",
    "version": 3
   },
   "file_extension": ".py",
   "mimetype": "text/x-python",
   "name": "python",
   "nbconvert_exporter": "python",
   "pygments_lexer": "ipython3",
   "version": "3.9.4"
  }
 },
 "nbformat": 4,
 "nbformat_minor": 5
}
