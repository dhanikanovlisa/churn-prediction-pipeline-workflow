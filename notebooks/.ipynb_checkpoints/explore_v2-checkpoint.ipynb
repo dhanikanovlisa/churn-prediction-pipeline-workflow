{
 "cells": [
  {
   "cell_type": "code",
   "execution_count": 1,
   "id": "89efc5db-84fd-4f48-8445-ce18c0f83636",
   "metadata": {},
   "outputs": [],
   "source": [
    "import pyspark\n",
    "from pyspark.sql import SparkSession\n",
    "from pyspark.sql.types import StructType, StructField, StringType\n",
    "from pyspark.sql.functions import col, count, when\n",
    "from pyspark.ml.feature import VectorAssembler, StandardScaler, StringIndexer, OneHotEncoder\n",
    "from pyspark.ml.linalg import Vectors\n",
    "from pyspark.ml import Pipeline"
   ]
  },
  {
   "cell_type": "code",
   "execution_count": 2,
   "id": "a51b3a1e-13c0-4ad3-9b1d-488a74a4bbdc",
   "metadata": {},
   "outputs": [],
   "source": [
    "spark = SparkSession.builder.appName('ChurnPrediction').getOrCreate()"
   ]
  },
  {
   "cell_type": "code",
   "execution_count": 3,
   "id": "3a4cf85a-9104-44a2-bdee-2b652a2bbd16",
   "metadata": {},
   "outputs": [],
   "source": [
    "df = spark.read.option('header', 'true').csv('../data/raw/data.csv', inferSchema=True)"
   ]
  },
  {
   "cell_type": "code",
   "execution_count": 4,
   "id": "a8f94235-fd20-4371-b089-73e7d95430bf",
   "metadata": {
    "tags": []
   },
   "outputs": [
    {
     "name": "stdout",
     "output_type": "stream",
     "text": [
      "+----------+------+-------------+-------+----------+------+------------+----------------+---------------+--------------+------------+----------------+-----------+-----------+---------------+--------------+----------------+--------------------+--------------+------------+-----+\n",
      "|customerID|gender|SeniorCitizen|Partner|Dependents|tenure|PhoneService|   MultipleLines|InternetService|OnlineSecurity|OnlineBackup|DeviceProtection|TechSupport|StreamingTV|StreamingMovies|      Contract|PaperlessBilling|       PaymentMethod|MonthlyCharges|TotalCharges|Churn|\n",
      "+----------+------+-------------+-------+----------+------+------------+----------------+---------------+--------------+------------+----------------+-----------+-----------+---------------+--------------+----------------+--------------------+--------------+------------+-----+\n",
      "|7590-VHVEG|Female|            0|    Yes|        No|     1|          No|No phone service|            DSL|            No|         Yes|              No|         No|         No|             No|Month-to-month|             Yes|    Electronic check|         29.85|       29.85|   No|\n",
      "|5575-GNVDE|  Male|            0|     No|        No|    34|         Yes|              No|            DSL|           Yes|          No|             Yes|         No|         No|             No|      One year|              No|        Mailed check|         56.95|      1889.5|   No|\n",
      "|3668-QPYBK|  Male|            0|     No|        No|     2|         Yes|              No|            DSL|           Yes|         Yes|              No|         No|         No|             No|Month-to-month|             Yes|        Mailed check|         53.85|      108.15|  Yes|\n",
      "|7795-CFOCW|  Male|            0|     No|        No|    45|          No|No phone service|            DSL|           Yes|          No|             Yes|        Yes|         No|             No|      One year|              No|Bank transfer (au...|          42.3|     1840.75|   No|\n",
      "|9237-HQITU|Female|            0|     No|        No|     2|         Yes|              No|    Fiber optic|            No|          No|              No|         No|         No|             No|Month-to-month|             Yes|    Electronic check|          70.7|      151.65|  Yes|\n",
      "|9305-CDSKC|Female|            0|     No|        No|     8|         Yes|             Yes|    Fiber optic|            No|          No|             Yes|         No|        Yes|            Yes|Month-to-month|             Yes|    Electronic check|         99.65|       820.5|  Yes|\n",
      "|1452-KIOVK|  Male|            0|     No|       Yes|    22|         Yes|             Yes|    Fiber optic|            No|         Yes|              No|         No|        Yes|             No|Month-to-month|             Yes|Credit card (auto...|          89.1|      1949.4|   No|\n",
      "|6713-OKOMC|Female|            0|     No|        No|    10|          No|No phone service|            DSL|           Yes|          No|              No|         No|         No|             No|Month-to-month|              No|        Mailed check|         29.75|       301.9|   No|\n",
      "|7892-POOKP|Female|            0|    Yes|        No|    28|         Yes|             Yes|    Fiber optic|            No|          No|             Yes|        Yes|        Yes|            Yes|Month-to-month|             Yes|    Electronic check|         104.8|     3046.05|  Yes|\n",
      "|6388-TABGU|  Male|            0|     No|       Yes|    62|         Yes|              No|            DSL|           Yes|         Yes|              No|         No|         No|             No|      One year|              No|Bank transfer (au...|         56.15|     3487.95|   No|\n",
      "+----------+------+-------------+-------+----------+------+------------+----------------+---------------+--------------+------------+----------------+-----------+-----------+---------------+--------------+----------------+--------------------+--------------+------------+-----+\n",
      "only showing top 10 rows\n",
      "\n"
     ]
    }
   ],
   "source": [
    "df.show(10)"
   ]
  },
  {
   "cell_type": "code",
   "execution_count": 5,
   "id": "b720cb07-c405-4fea-a2f5-ecad6a393d0c",
   "metadata": {},
   "outputs": [],
   "source": [
    "#Drop Customer ID\n",
    "df = df.drop('customerID')"
   ]
  },
  {
   "cell_type": "code",
   "execution_count": 6,
   "id": "3b4cd52d-a2a3-416a-aa59-95177ad0a248",
   "metadata": {},
   "outputs": [
    {
     "name": "stdout",
     "output_type": "stream",
     "text": [
      "Number of rows: 7043\n",
      "Number of columns: 20\n"
     ]
    }
   ],
   "source": [
    "num_rows = df.count()\n",
    "num_columns = len(df.columns)\n",
    "\n",
    "print(\"Number of rows:\", num_rows)\n",
    "print(\"Number of columns:\", num_columns)"
   ]
  },
  {
   "cell_type": "code",
   "execution_count": 7,
   "id": "2aceafd0-3b11-4eff-bcda-b9f82915177c",
   "metadata": {},
   "outputs": [
    {
     "name": "stdout",
     "output_type": "stream",
     "text": [
      "root\n",
      " |-- gender: string (nullable = true)\n",
      " |-- SeniorCitizen: integer (nullable = true)\n",
      " |-- Partner: string (nullable = true)\n",
      " |-- Dependents: string (nullable = true)\n",
      " |-- tenure: integer (nullable = true)\n",
      " |-- PhoneService: string (nullable = true)\n",
      " |-- MultipleLines: string (nullable = true)\n",
      " |-- InternetService: string (nullable = true)\n",
      " |-- OnlineSecurity: string (nullable = true)\n",
      " |-- OnlineBackup: string (nullable = true)\n",
      " |-- DeviceProtection: string (nullable = true)\n",
      " |-- TechSupport: string (nullable = true)\n",
      " |-- StreamingTV: string (nullable = true)\n",
      " |-- StreamingMovies: string (nullable = true)\n",
      " |-- Contract: string (nullable = true)\n",
      " |-- PaperlessBilling: string (nullable = true)\n",
      " |-- PaymentMethod: string (nullable = true)\n",
      " |-- MonthlyCharges: double (nullable = true)\n",
      " |-- TotalCharges: string (nullable = true)\n",
      " |-- Churn: string (nullable = true)\n",
      "\n",
      "Numerical columns: ['SeniorCitizen', 'tenure', 'MonthlyCharges']\n",
      "Categorical columns: ['gender', 'Partner', 'Dependents', 'PhoneService', 'MultipleLines', 'InternetService', 'OnlineSecurity', 'OnlineBackup', 'DeviceProtection', 'TechSupport', 'StreamingTV', 'StreamingMovies', 'Contract', 'PaperlessBilling', 'PaymentMethod', 'TotalCharges', 'Churn']\n",
      "Unique values in gender:\n",
      "+------+\n",
      "|gender|\n",
      "+------+\n",
      "|Female|\n",
      "|  Male|\n",
      "+------+\n",
      "\n",
      "Unique values in Partner:\n",
      "+-------+\n",
      "|Partner|\n",
      "+-------+\n",
      "|     No|\n",
      "|    Yes|\n",
      "+-------+\n",
      "\n",
      "Unique values in Dependents:\n",
      "+----------+\n",
      "|Dependents|\n",
      "+----------+\n",
      "|        No|\n",
      "|       Yes|\n",
      "+----------+\n",
      "\n",
      "Unique values in PhoneService:\n",
      "+------------+\n",
      "|PhoneService|\n",
      "+------------+\n",
      "|          No|\n",
      "|         Yes|\n",
      "+------------+\n",
      "\n",
      "Unique values in MultipleLines:\n",
      "+----------------+\n",
      "|   MultipleLines|\n",
      "+----------------+\n",
      "|No phone service|\n",
      "|              No|\n",
      "|             Yes|\n",
      "+----------------+\n",
      "\n",
      "Unique values in InternetService:\n",
      "+---------------+\n",
      "|InternetService|\n",
      "+---------------+\n",
      "|    Fiber optic|\n",
      "|             No|\n",
      "|            DSL|\n",
      "+---------------+\n",
      "\n",
      "Unique values in OnlineSecurity:\n",
      "+-------------------+\n",
      "|     OnlineSecurity|\n",
      "+-------------------+\n",
      "|                 No|\n",
      "|                Yes|\n",
      "|No internet service|\n",
      "+-------------------+\n",
      "\n",
      "Unique values in OnlineBackup:\n",
      "+-------------------+\n",
      "|       OnlineBackup|\n",
      "+-------------------+\n",
      "|                 No|\n",
      "|                Yes|\n",
      "|No internet service|\n",
      "+-------------------+\n",
      "\n",
      "Unique values in DeviceProtection:\n",
      "+-------------------+\n",
      "|   DeviceProtection|\n",
      "+-------------------+\n",
      "|                 No|\n",
      "|                Yes|\n",
      "|No internet service|\n",
      "+-------------------+\n",
      "\n",
      "Unique values in TechSupport:\n",
      "+-------------------+\n",
      "|        TechSupport|\n",
      "+-------------------+\n",
      "|                 No|\n",
      "|                Yes|\n",
      "|No internet service|\n",
      "+-------------------+\n",
      "\n",
      "Unique values in StreamingTV:\n",
      "+-------------------+\n",
      "|        StreamingTV|\n",
      "+-------------------+\n",
      "|                 No|\n",
      "|                Yes|\n",
      "|No internet service|\n",
      "+-------------------+\n",
      "\n",
      "Unique values in StreamingMovies:\n",
      "+-------------------+\n",
      "|    StreamingMovies|\n",
      "+-------------------+\n",
      "|                 No|\n",
      "|                Yes|\n",
      "|No internet service|\n",
      "+-------------------+\n",
      "\n",
      "Unique values in Contract:\n",
      "+--------------+\n",
      "|      Contract|\n",
      "+--------------+\n",
      "|Month-to-month|\n",
      "|      One year|\n",
      "|      Two year|\n",
      "+--------------+\n",
      "\n",
      "Unique values in PaperlessBilling:\n",
      "+----------------+\n",
      "|PaperlessBilling|\n",
      "+----------------+\n",
      "|              No|\n",
      "|             Yes|\n",
      "+----------------+\n",
      "\n",
      "Unique values in PaymentMethod:\n",
      "+--------------------+\n",
      "|       PaymentMethod|\n",
      "+--------------------+\n",
      "|Credit card (auto...|\n",
      "|        Mailed check|\n",
      "|Bank transfer (au...|\n",
      "|    Electronic check|\n",
      "+--------------------+\n",
      "\n",
      "Unique values in TotalCharges:\n",
      "+------------+\n",
      "|TotalCharges|\n",
      "+------------+\n",
      "|      3437.5|\n",
      "|     1612.75|\n",
      "|       483.7|\n",
      "|      1756.6|\n",
      "|     2633.95|\n",
      "|      6710.5|\n",
      "|      1490.4|\n",
      "|      936.85|\n",
      "|      340.35|\n",
      "|       550.6|\n",
      "|      3055.5|\n",
      "|     1522.65|\n",
      "|     4494.65|\n",
      "|        78.9|\n",
      "|       291.9|\n",
      "|       545.2|\n",
      "|      5432.2|\n",
      "|      600.15|\n",
      "|     1285.05|\n",
      "|      2638.1|\n",
      "+------------+\n",
      "only showing top 20 rows\n",
      "\n",
      "Unique values in Churn:\n",
      "+-----+\n",
      "|Churn|\n",
      "+-----+\n",
      "|   No|\n",
      "|  Yes|\n",
      "+-----+\n",
      "\n"
     ]
    }
   ],
   "source": [
    "df.printSchema()\n",
    "def categorize_columns(df):\n",
    "  numerical_cols = []\n",
    "  categorical_cols = []\n",
    "\n",
    "  for column, dtype in df.dtypes:\n",
    "    if dtype in ['double', 'int']:\n",
    "      numerical_cols.append(column)\n",
    "    else:\n",
    "      categorical_cols.append(column)\n",
    "\n",
    "  return numerical_cols, categorical_cols\n",
    "\n",
    "\n",
    "# Categorize columns\n",
    "numerical_cols, categorical_cols = categorize_columns(df)\n",
    "\n",
    "print(\"Numerical columns:\", numerical_cols)\n",
    "print(\"Categorical columns:\", categorical_cols)\n",
    "\n",
    "# Unique values on Categorical columns\n",
    "for c in categorical_cols:\n",
    "    unique_values = df.select(c).distinct()\n",
    "    print(f\"Unique values in {c}:\")\n",
    "    unique_values.show()"
   ]
  },
  {
   "cell_type": "code",
   "execution_count": 8,
   "id": "d3df227c-f0ce-4658-9770-608ddc999fdc",
   "metadata": {},
   "outputs": [
    {
     "name": "stdout",
     "output_type": "stream",
     "text": [
      "root\n",
      " |-- gender: string (nullable = true)\n",
      " |-- SeniorCitizen: integer (nullable = true)\n",
      " |-- Partner: string (nullable = true)\n",
      " |-- Dependents: string (nullable = true)\n",
      " |-- tenure: integer (nullable = true)\n",
      " |-- PhoneService: string (nullable = true)\n",
      " |-- MultipleLines: string (nullable = true)\n",
      " |-- InternetService: string (nullable = true)\n",
      " |-- OnlineSecurity: string (nullable = true)\n",
      " |-- OnlineBackup: string (nullable = true)\n",
      " |-- DeviceProtection: string (nullable = true)\n",
      " |-- TechSupport: string (nullable = true)\n",
      " |-- StreamingTV: string (nullable = true)\n",
      " |-- StreamingMovies: string (nullable = true)\n",
      " |-- Contract: string (nullable = true)\n",
      " |-- PaperlessBilling: string (nullable = true)\n",
      " |-- PaymentMethod: string (nullable = true)\n",
      " |-- MonthlyCharges: double (nullable = true)\n",
      " |-- TotalCharges: double (nullable = true)\n",
      " |-- Churn: string (nullable = true)\n",
      "\n",
      "Numerical columns: ['SeniorCitizen', 'tenure', 'MonthlyCharges', 'TotalCharges']\n",
      "Categorical columns: ['gender', 'Partner', 'Dependents', 'PhoneService', 'MultipleLines', 'InternetService', 'OnlineSecurity', 'OnlineBackup', 'DeviceProtection', 'TechSupport', 'StreamingTV', 'StreamingMovies', 'Contract', 'PaperlessBilling', 'PaymentMethod', 'Churn']\n"
     ]
    }
   ],
   "source": [
    "# Convert Total charges to numeric\n",
    "df = df.withColumn(\"TotalCharges\", col(\"TotalCharges\").cast(\"double\"))\n",
    "df.printSchema()\n",
    "\n",
    "# Categorize columns\n",
    "numerical_cols, categorical_cols = categorize_columns(df)\n",
    "\n",
    "print(\"Numerical columns:\", numerical_cols)\n",
    "print(\"Categorical columns:\", categorical_cols)"
   ]
  },
  {
   "cell_type": "code",
   "execution_count": 9,
   "id": "f5e5b802-66bc-4016-8bd4-d27fc25a3dda",
   "metadata": {},
   "outputs": [],
   "source": [
    "#Drop Duplicates\n",
    "df = df.dropDuplicates()\n",
    "#Drop Missing Values\n",
    "df = df.na.drop()"
   ]
  },
  {
   "cell_type": "code",
   "execution_count": 10,
   "id": "56617fb1-05bd-42ed-a0ff-825e31de1aa5",
   "metadata": {},
   "outputs": [
    {
     "name": "stdout",
     "output_type": "stream",
     "text": [
      "+------+-------------+-------+----------+------+------------+----------------+---------------+-------------------+-------------------+-------------------+-------------------+-------------------+-------------------+--------------+----------------+--------------------+--------------+------------+-----+--------------------+--------------------+----------+-----------+--------------+----------------+-----------------+-------------------+------------------+----------------+--------------------+---------------+---------------+-------------------+------------+--------------------+-----------------+---------+--------------------+--------------------+\n",
      "|gender|SeniorCitizen|Partner|Dependents|tenure|PhoneService|   MultipleLines|InternetService|     OnlineSecurity|       OnlineBackup|   DeviceProtection|        TechSupport|        StreamingTV|    StreamingMovies|      Contract|PaperlessBilling|       PaymentMethod|MonthlyCharges|TotalCharges|Churn|            features|      scaledFeatures|gender_inx|Partner_inx|Dependents_inx|PhoneService_inx|MultipleLines_inx|InternetService_inx|OnlineSecurity_inx|OnlineBackup_inx|DeviceProtection_inx|TechSupport_inx|StreamingTV_inx|StreamingMovies_inx|Contract_inx|PaperlessBilling_inx|PaymentMethod_inx|Churn_inx|    cat_features_inx|final_feature_vector|\n",
      "+------+-------------+-------+----------+------+------------+----------------+---------------+-------------------+-------------------+-------------------+-------------------+-------------------+-------------------+--------------+----------------+--------------------+--------------+------------+-----+--------------------+--------------------+----------+-----------+--------------+----------------+-----------------+-------------------+------------------+----------------+--------------------+---------------+---------------+-------------------+------------+--------------------+-----------------+---------+--------------------+--------------------+\n",
      "|  Male|            0|     No|       Yes|    71|         Yes|             Yes|    Fiber optic|                Yes|                 No|                Yes|                 No|                Yes|                Yes|      Two year|              No|Bank transfer (au...|         106.7|     7382.25|   No|[0.0,71.0,106.7,7...|[0.0,2.8955433114...|       0.0|        0.0|           1.0|             0.0|              1.0|                0.0|               1.0|             0.0|                 1.0|            0.0|            1.0|                1.0|         1.0|                 1.0|              2.0|      0.0|[0.0,0.0,1.0,0.0,...|[0.0,2.8955433114...|\n",
      "|Female|            0|    Yes|        No|    57|          No|No phone service|            DSL|                Yes|                Yes|                Yes|                 No|                Yes|                Yes|Month-to-month|             Yes|Bank transfer (au...|         58.75|     3437.45|   No|[0.0,57.0,58.75,3...|[0.0,2.3245911092...|       1.0|        1.0|           0.0|             1.0|              2.0|                1.0|               1.0|             1.0|                 1.0|            0.0|            1.0|                1.0|         0.0|                 0.0|              2.0|      0.0|[1.0,1.0,0.0,1.0,...|[0.0,2.3245911092...|\n",
      "|  Male|            0|     No|        No|    68|         Yes|             Yes|            DSL|                Yes|                Yes|                Yes|                 No|                 No|                Yes|      One year|             Yes|Credit card (auto...|          76.9|      5023.0|   No|[0.0,68.0,76.9,50...|[0.0,2.7731964109...|       0.0|        0.0|           0.0|             0.0|              1.0|                1.0|               1.0|             1.0|                 1.0|            0.0|            0.0|                1.0|         2.0|                 0.0|              3.0|      0.0|(15,[4,5,6,7,8,11...|(19,[1,2,3,8,9,10...|\n",
      "|  Male|            0|    Yes|       Yes|    40|         Yes|              No|             No|No internet service|No internet service|No internet service|No internet service|No internet service|No internet service|      Two year|              No|        Mailed check|          19.6|      808.95|   No|[0.0,40.0,19.6,80...|[0.0,1.6312920064...|       0.0|        1.0|           1.0|             0.0|              0.0|                2.0|               2.0|             2.0|                 2.0|            2.0|            2.0|                2.0|         1.0|                 1.0|              1.0|      0.0|[0.0,1.0,1.0,0.0,...|[0.0,1.6312920064...|\n",
      "|Female|            0|    Yes|       Yes|    48|         Yes|             Yes|    Fiber optic|                Yes|                Yes|                 No|                 No|                Yes|                Yes|Month-to-month|             Yes|Credit card (auto...|        105.25|      4997.5|   No|[0.0,48.0,105.25,...|[0.0,1.9575504077...|       1.0|        1.0|           1.0|             0.0|              1.0|                0.0|               1.0|             1.0|                 0.0|            0.0|            1.0|                1.0|         0.0|                 0.0|              3.0|      0.0|[1.0,1.0,1.0,0.0,...|[0.0,1.9575504077...|\n",
      "|Female|            0|    Yes|        No|    53|         Yes|              No|    Fiber optic|                 No|                 No|                 No|                Yes|                Yes|                Yes|      One year|             Yes|    Electronic check|         93.45|      4872.2|   No|[0.0,53.0,93.45,4...|[0.0,2.1614619085...|       1.0|        1.0|           0.0|             0.0|              0.0|                0.0|               0.0|             0.0|                 0.0|            1.0|            1.0|                1.0|         2.0|                 0.0|              0.0|      0.0|(15,[0,1,9,10,11,...|(19,[1,2,3,4,5,13...|\n",
      "|  Male|            0|    Yes|        No|    58|         Yes|              No|             No|No internet service|No internet service|No internet service|No internet service|No internet service|No internet service|      Two year|              No|        Mailed check|         20.75|     1185.95|   No|[0.0,58.0,20.75,1...|[0.0,2.3653734093...|       0.0|        1.0|           0.0|             0.0|              0.0|                2.0|               2.0|             2.0|                 2.0|            2.0|            2.0|                2.0|         1.0|                 1.0|              1.0|      0.0|[0.0,1.0,0.0,0.0,...|[0.0,2.3653734093...|\n",
      "|  Male|            1|     No|       Yes|     7|         Yes|              No|            DSL|                 No|                 No|                 No|                 No|                 No|                 No|Month-to-month|             Yes|        Mailed check|         45.75|       344.2|   No|[1.0,7.0,45.75,34...|[2.70870782288552...|       0.0|        0.0|           1.0|             0.0|              0.0|                1.0|               0.0|             0.0|                 0.0|            0.0|            0.0|                0.0|         0.0|                 0.0|              1.0|      0.0|(15,[2,5,14],[1.0...|(19,[0,1,2,3,6,9,...|\n",
      "|  Male|            0|     No|        No|    45|         Yes|              No|            DSL|                Yes|                 No|                Yes|                 No|                Yes|                Yes|Month-to-month|             Yes|    Electronic check|         75.95|      3273.8|   No|[0.0,45.0,75.95,3...|[0.0,1.8352035072...|       0.0|        0.0|           0.0|             0.0|              0.0|                1.0|               1.0|             0.0|                 1.0|            0.0|            1.0|                1.0|         0.0|                 0.0|              0.0|      0.0|(15,[5,6,8,10,11]...|(19,[1,2,3,9,10,1...|\n",
      "|Female|            0|     No|        No|     1|         Yes|              No|    Fiber optic|                Yes|                 No|                 No|                 No|                Yes|                Yes|Month-to-month|             Yes|    Electronic check|          95.6|        95.6|  Yes| [0.0,1.0,95.6,95.6]|[0.0,0.0407823001...|       1.0|        0.0|           0.0|             0.0|              0.0|                0.0|               1.0|             0.0|                 0.0|            0.0|            1.0|                1.0|         0.0|                 0.0|              0.0|      1.0|(15,[0,6,10,11],[...|(19,[1,2,3,4,10,1...|\n",
      "+------+-------------+-------+----------+------+------------+----------------+---------------+-------------------+-------------------+-------------------+-------------------+-------------------+-------------------+--------------+----------------+--------------------+--------------+------------+-----+--------------------+--------------------+----------+-----------+--------------+----------------+-----------------+-------------------+------------------+----------------+--------------------+---------------+---------------+-------------------+------------+--------------------+-----------------+---------+--------------------+--------------------+\n",
      "only showing top 10 rows\n",
      "\n"
     ]
    }
   ],
   "source": [
    "# Combine numerical features into a single vector\n",
    "numerical_features_df = VectorAssembler(\n",
    "    inputCols=numerical_cols, \n",
    "    outputCol=\"features\"\n",
    ").transform(df)\n",
    "\n",
    "# Scale numerical features\n",
    "standardScaler = StandardScaler(inputCol=\"features\", outputCol=\"scaledFeatures\")\n",
    "scaled_numerical_df = standardScaler.fit(numerical_features_df).transform(numerical_features_df)\n",
    "\n",
    "# Convert categorical columns to indexed numeric columns\n",
    "inx_categorical_col = [c + \"_inx\" for c in categorical_cols]\n",
    "indexer = StringIndexer(inputCols=categorical_cols, outputCols=inx_categorical_col)\n",
    "inx_df = indexer.fit(scaled_numerical_df).transform(scaled_numerical_df)\n",
    "inx_categorical_col = inx_categorical_col[:-1]  # Exclude Churn_inx\n",
    "categorical_features_df = VectorAssembler(\n",
    "    inputCols=inx_categorical_col, \n",
    "    outputCol=\"cat_features_inx\"\n",
    ").transform(inx_df)\n",
    "\n",
    "# Combine scaled numerical features and indexed categorical features\n",
    "final_df = VectorAssembler(\n",
    "    inputCols=[\"scaledFeatures\", \"cat_features_inx\"], \n",
    "    outputCol=\"final_feature_vector\"\n",
    ").transform(categorical_features_df)\n",
    "final_df.show(10)"
   ]
  },
  {
   "cell_type": "code",
   "execution_count": 11,
   "id": "67acd82e-bcf8-4b12-9edc-f204e07c47ea",
   "metadata": {},
   "outputs": [
    {
     "name": "stdout",
     "output_type": "stream",
     "text": [
      "+--------------------+---------+\n",
      "|final_feature_vector|Churn_inx|\n",
      "+--------------------+---------+\n",
      "|[0.0,2.8955433114...|      0.0|\n",
      "|[0.0,2.3245911092...|      0.0|\n",
      "|(19,[1,2,3,8,9,10...|      0.0|\n",
      "|[0.0,1.6312920064...|      0.0|\n",
      "|[0.0,1.9575504077...|      0.0|\n",
      "|(19,[1,2,3,4,5,13...|      0.0|\n",
      "|[0.0,2.3653734093...|      0.0|\n",
      "|(19,[0,1,2,3,6,9,...|      0.0|\n",
      "|(19,[1,2,3,9,10,1...|      0.0|\n",
      "|(19,[1,2,3,4,10,1...|      1.0|\n",
      "+--------------------+---------+\n",
      "only showing top 10 rows\n",
      "\n"
     ]
    }
   ],
   "source": [
    "input_df = final_df.select(\"final_feature_vector\",\"Churn_inx\")\n",
    "input_df.show(10)"
   ]
  },
  {
   "cell_type": "code",
   "execution_count": 12,
   "id": "c5073ebf-4a9d-45fd-906e-cf77ab42c1b7",
   "metadata": {},
   "outputs": [
    {
     "name": "stdout",
     "output_type": "stream",
     "text": [
      "+---------+-----+\n",
      "|Churn_inx|count|\n",
      "+---------+-----+\n",
      "|      0.0| 5153|\n",
      "|      1.0| 1857|\n",
      "+---------+-----+\n",
      "\n",
      "+---------+-----+\n",
      "|Churn_inx|count|\n",
      "+---------+-----+\n",
      "|      0.0| 5153|\n",
      "|      1.0| 5157|\n",
      "+---------+-----+\n",
      "\n"
     ]
    }
   ],
   "source": [
    "# Handle imbalance data\n",
    "class_counts = input_df.groupBy(\"Churn_inx\").count()\n",
    "class_counts.show()\n",
    "\n",
    "major_df = input_df.filter(col('Churn_inx') == 0)\n",
    "minor_df = input_df.filter(col('Churn_inx') == 1)\n",
    "\n",
    "\n",
    "major_count = major_df.count()\n",
    "minor_count = minor_df.count()\n",
    "ratio = major_count / minor_count\n",
    "\n",
    "\n",
    "oversampled_minor_df = minor_df.sample(withReplacement=True, fraction=ratio)\n",
    "input_data = major_df.unionAll(oversampled_minor_df)\n",
    "\n",
    "class_counts_balanced = input_data.groupBy(\"Churn_inx\").count()\n",
    "class_counts_balanced.show()\n"
   ]
  },
  {
   "cell_type": "code",
   "execution_count": 13,
   "id": "b64d7fc8-97db-4e31-a54d-94d49f74fcce",
   "metadata": {},
   "outputs": [
    {
     "data": {
      "text/plain": [
       "(8166, 2144)"
      ]
     },
     "execution_count": 13,
     "metadata": {},
     "output_type": "execute_result"
    }
   ],
   "source": [
    "train, test = input_data.randomSplit([0.8, 0.2], seed=79)\n",
    "train.count() , test.count()"
   ]
  },
  {
   "cell_type": "code",
   "execution_count": 14,
   "id": "377cdd2d-7b93-4d26-887b-a7061f420952",
   "metadata": {},
   "outputs": [
    {
     "name": "stdout",
     "output_type": "stream",
     "text": [
      "AUC on the test dataset:  0.8482987483244262\n"
     ]
    }
   ],
   "source": [
    "from pyspark.ml.classification import LogisticRegression\n",
    "from pyspark.ml.evaluation import BinaryClassificationEvaluator\n",
    "\n",
    "# Logistic regression\n",
    "logistic_regression_model = LogisticRegression(\n",
    "    featuresCol='final_feature_vector',\n",
    "    labelCol='Churn_inx',\n",
    "    regParam=0.001,\n",
    "    elasticNetParam=0.95,\n",
    "    maxIter=50\n",
    ")\n",
    "\n",
    "trained_lr_model = logistic_regression_model.fit(train)\n",
    "test_predictions = trained_lr_model.transform(test)\n",
    "auc_evaluator = BinaryClassificationEvaluator(\n",
    "    labelCol=\"Churn_inx\",\n",
    "    metricName=\"areaUnderROC\"\n",
    ")\n",
    "\n",
    "auc_score = auc_evaluator.evaluate(test_predictions)\n",
    "print(\"AUC on the test dataset: \", auc_score)\n"
   ]
  },
  {
   "cell_type": "code",
   "execution_count": 15,
   "id": "187dbea5-8e05-4faf-b850-696761882b4d",
   "metadata": {},
   "outputs": [
    {
     "name": "stdout",
     "output_type": "stream",
     "text": [
      "AUC on test data:  0.8482987483244262\n"
     ]
    }
   ],
   "source": [
    "from pyspark.ml.classification import DecisionTreeClassifier\n",
    "\n",
    "# Decision Tree Classifier\n",
    "decision_tree = DecisionTreeClassifier(\n",
    "    featuresCol='final_feature_vector', \n",
    "    labelCol='Churn_inx',\n",
    "    maxDepth=5,\n",
    "    minInstancesPerNode=10\n",
    ")\n",
    "\n",
    "trained_dt_model = decision_tree.fit(train)\n",
    "\n",
    "test_predictions = trained_dt_model.transform(test)\n",
    "\n",
    "dt_auc_evaluator = BinaryClassificationEvaluator(\n",
    "    labelCol=\"Churn_inx\",\n",
    "    metricName=\"areaUnderROC\"\n",
    ")\n",
    "\n",
    "dt_auc_score = dt_auc_evaluator.evaluate(test_predictions)\n",
    "print(\"AUC on test data: \", auc_score)\n"
   ]
  },
  {
   "cell_type": "code",
   "execution_count": 16,
   "id": "14a08110-fb6e-4811-9b58-df6b90d482ac",
   "metadata": {},
   "outputs": [
    {
     "name": "stdout",
     "output_type": "stream",
     "text": [
      "AUC on test data:  0.8488610448618624\n"
     ]
    }
   ],
   "source": [
    "from pyspark.ml.classification import RandomForestClassifier\n",
    "from pyspark.ml.evaluation import BinaryClassificationEvaluator\n",
    "\n",
    "# Random Forest\n",
    "random_forest = RandomForestClassifier(\n",
    "    featuresCol='final_feature_vector', \n",
    "    labelCol='Churn_inx', \n",
    "    numTrees=20, \n",
    "    maxDepth=5, \n",
    "    minInstancesPerNode=10\n",
    ")\n",
    "\n",
    "trained_rf_model = random_forest.fit(train)\n",
    "test_predictions = trained_rf_model.transform(test)\n",
    "\n",
    "rf_auc_evaluator = BinaryClassificationEvaluator(labelCol=\"Churn_inx\", metricName=\"areaUnderROC\")\n",
    "rf_auc_score = rf_auc_evaluator.evaluate(test_predictions)\n",
    "print(\"AUC on test data: \", rf_auc_score)\n"
   ]
  },
  {
   "cell_type": "code",
   "execution_count": 17,
   "id": "f431ad26-a3d4-459e-a64c-8172a4928d6c",
   "metadata": {},
   "outputs": [
    {
     "name": "stdout",
     "output_type": "stream",
     "text": [
      "AUC on test data:  0.8462349633549786\n"
     ]
    }
   ],
   "source": [
    "from pyspark.ml.classification import LinearSVC\n",
    "\n",
    "# SVM\n",
    "svc = LinearSVC(featuresCol='final_feature_vector', labelCol='Churn_inx')\n",
    "trained_svc_model = svc.fit(train)\n",
    "predictions = trained_svc_model.transform(test)\n",
    "\n",
    "evaluator = BinaryClassificationEvaluator(labelCol=\"Churn_inx\", metricName=\"areaUnderROC\")\n",
    "svc_auc = evaluator.evaluate(predictions)\n",
    "print(\"AUC on test data: \", svc_auc)\n"
   ]
  },
  {
   "cell_type": "code",
   "execution_count": 18,
   "id": "e3cf29cd-eaf8-4112-ac6a-aaf811cae130",
   "metadata": {},
   "outputs": [
    {
     "name": "stdout",
     "output_type": "stream",
     "text": [
      "AUC on test data:  0.8641518548822327\n"
     ]
    }
   ],
   "source": [
    "from pyspark.ml.classification import GBTClassifier\n",
    "\n",
    "# Gradient Boosting Machines\n",
    "gbt = GBTClassifier(featuresCol='final_feature_vector', labelCol='Churn_inx', maxIter=10)\n",
    "trained_gbt_model = gbt.fit(train)\n",
    "predictions = trained_gbt_model.transform(test)\n",
    "\n",
    "evaluator = BinaryClassificationEvaluator(labelCol=\"Churn_inx\", metricName=\"areaUnderROC\")\n",
    "gbt_auc = evaluator.evaluate(predictions)\n",
    "print(\"AUC on test data: \", gbt_auc)\n"
   ]
  }
 ],
 "metadata": {
  "kernelspec": {
   "display_name": "Python 3 (ipykernel)",
   "language": "python",
   "name": "python3"
  },
  "language_info": {
   "codemirror_mode": {
    "name": "ipython",
    "version": 3
   },
   "file_extension": ".py",
   "mimetype": "text/x-python",
   "name": "python",
   "nbconvert_exporter": "python",
   "pygments_lexer": "ipython3",
   "version": "3.9.4"
  }
 },
 "nbformat": 4,
 "nbformat_minor": 5
}
